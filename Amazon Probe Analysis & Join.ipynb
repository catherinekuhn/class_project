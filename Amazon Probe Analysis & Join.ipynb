{
 "cells": [
  {
   "cell_type": "markdown",
   "metadata": {},
   "source": [
    "# Amazon Probe Analysis \n"
   ]
  },
  {
   "cell_type": "code",
   "execution_count": 158,
   "metadata": {},
   "outputs": [],
   "source": [
    "# This notebook was built in Catherine's root environment. \n",
    "import pandas as pd\n",
    "from pandas import DataFrame\n",
    "import numpy as np\n",
    "import os\n",
    "import glob\n",
    "import datetime\n",
    "import pylab\n",
    "import matplotlib as plt\n",
    "import datetime as datetime  \n",
    "import statsmodels.api as sm  \n",
    "import matplotlib.pyplot as plt\n",
    "\n",
    "# plt.style.use('ggplot')"
   ]
  },
  {
   "cell_type": "code",
   "execution_count": 159,
   "metadata": {
    "collapsed": true
   },
   "outputs": [],
   "source": [
    "%matplotlib inline"
   ]
  },
  {
   "cell_type": "markdown",
   "metadata": {},
   "source": [
    "## Bring in Data"
   ]
  },
  {
   "cell_type": "code",
   "execution_count": 160,
   "metadata": {},
   "outputs": [
    {
     "name": "stdout",
     "output_type": "stream",
     "text": [
      "/Users/ckuhn/Documents/General Exam/Data/Amazon/T5/licor\n"
     ]
    }
   ],
   "source": [
    "%cd /Users/ckuhn/Documents/General Exam/Data/Amazon/T5/licor/  \n",
    "\n",
    "licor = pd.read_table('licor.csv', low_memory=False, sep=\",\", header = 0,parse_dates=[['Date', 'Time']])"
   ]
  },
  {
   "cell_type": "code",
   "execution_count": 161,
   "metadata": {},
   "outputs": [
    {
     "data": {
      "text/html": [
       "<div>\n",
       "<style>\n",
       "    .dataframe thead tr:only-child th {\n",
       "        text-align: right;\n",
       "    }\n",
       "\n",
       "    .dataframe thead th {\n",
       "        text-align: left;\n",
       "    }\n",
       "\n",
       "    .dataframe tbody tr th {\n",
       "        vertical-align: top;\n",
       "    }\n",
       "</style>\n",
       "<table border=\"1\" class=\"dataframe\">\n",
       "  <thead>\n",
       "    <tr style=\"text-align: right;\">\n",
       "      <th></th>\n",
       "      <th>Date_Time</th>\n",
       "      <th>CO2(ppm)</th>\n",
       "      <th>Cell Temp (c)</th>\n",
       "      <th>Cell Press (kpa)</th>\n",
       "    </tr>\n",
       "  </thead>\n",
       "  <tbody>\n",
       "    <tr>\n",
       "      <th>0</th>\n",
       "      <td>2016-11-04 04:11:58</td>\n",
       "      <td>1000.45</td>\n",
       "      <td>51.44</td>\n",
       "      <td>100.27</td>\n",
       "    </tr>\n",
       "    <tr>\n",
       "      <th>1</th>\n",
       "      <td>2016-11-04 04:11:59</td>\n",
       "      <td>1001.77</td>\n",
       "      <td>51.44</td>\n",
       "      <td>100.28</td>\n",
       "    </tr>\n",
       "    <tr>\n",
       "      <th>2</th>\n",
       "      <td>2016-11-04 04:12:00</td>\n",
       "      <td>1003.13</td>\n",
       "      <td>51.44</td>\n",
       "      <td>100.28</td>\n",
       "    </tr>\n",
       "    <tr>\n",
       "      <th>3</th>\n",
       "      <td>2016-11-04 04:12:01</td>\n",
       "      <td>1004.26</td>\n",
       "      <td>51.44</td>\n",
       "      <td>100.28</td>\n",
       "    </tr>\n",
       "    <tr>\n",
       "      <th>4</th>\n",
       "      <td>2016-11-04 04:12:02</td>\n",
       "      <td>1005.45</td>\n",
       "      <td>51.44</td>\n",
       "      <td>100.28</td>\n",
       "    </tr>\n",
       "  </tbody>\n",
       "</table>\n",
       "</div>"
      ],
      "text/plain": [
       "            Date_Time  CO2(ppm)  Cell Temp (c)  Cell Press (kpa)\n",
       "0 2016-11-04 04:11:58   1000.45          51.44            100.27\n",
       "1 2016-11-04 04:11:59   1001.77          51.44            100.28\n",
       "2 2016-11-04 04:12:00   1003.13          51.44            100.28\n",
       "3 2016-11-04 04:12:01   1004.26          51.44            100.28\n",
       "4 2016-11-04 04:12:02   1005.45          51.44            100.28"
      ]
     },
     "execution_count": 161,
     "metadata": {},
     "output_type": "execute_result"
    }
   ],
   "source": [
    "licor.head()"
   ]
  },
  {
   "cell_type": "code",
   "execution_count": 57,
   "metadata": {},
   "outputs": [
    {
     "data": {
      "text/plain": [
       "count    267967.000000\n",
       "mean       1055.431275\n",
       "std         188.142002\n",
       "min         570.840000\n",
       "25%         956.220000\n",
       "50%        1053.320000\n",
       "75%        1137.110000\n",
       "max        2440.990000\n",
       "Name: CO2(ppm), dtype: float64"
      ]
     },
     "execution_count": 57,
     "metadata": {},
     "output_type": "execute_result"
    }
   ],
   "source": [
    "licor['CO2(ppm)'] = pd.to_numeric(licor['CO2(ppm)'], errors='coerce')\n",
    "licor['CO2(ppm)'].describe()"
   ]
  },
  {
   "cell_type": "code",
   "execution_count": 58,
   "metadata": {},
   "outputs": [
    {
     "data": {
      "image/png": "[encoded data removed]",
      "text/plain": [
       "<matplotlib.figure.Figure at 0x10ffadd50>"
      ]
     },
     "metadata": {},
     "output_type": "display_data"
    }
   ],
   "source": [
    "def set_style():\n",
    "    plt.style.use(['seaborn-white', 'seaborn-paper'])\n",
    "    plt.rc(\"font\", family=\"Times New Roman\")\n",
    "    \n",
    "set_style()    \n",
    "fig = licor['CO2(ppm)'].hist(color='k', alpha=0.5, bins=50)\n",
    "fig.set_title('Carbon Dioxide (ppm)')\n",
    "\n",
    "plt.tight_layout()\n",
    "\n",
    "plt.savefig('licorhist.png', dpi = 300)"
   ]
  },
  {
   "cell_type": "markdown",
   "metadata": {},
   "source": [
    "## Sonde Data"
   ]
  },
  {
   "cell_type": "code",
   "execution_count": 132,
   "metadata": {},
   "outputs": [
    {
     "name": "stdout",
     "output_type": "stream",
     "text": [
      "/Users/ckuhn/Documents/General Exam/Data/Amazon/T5/sonde\n"
     ]
    }
   ],
   "source": [
    "%cd /Users/ckuhn/Documents/General Exam/Data/Amazon/T5/sonde/  \n",
    "sonde = pd.read_table('sonde.csv', low_memory=False, sep=',', header = 0, parse_dates=[['Date (MM/DD/YYYY)', 'Time (HH:MM:SS)']])"
   ]
  },
  {
   "cell_type": "code",
   "execution_count": 133,
   "metadata": {},
   "outputs": [
    {
     "data": {
      "text/html": [
       "<div>\n",
       "<style>\n",
       "    .dataframe thead tr:only-child th {\n",
       "        text-align: right;\n",
       "    }\n",
       "\n",
       "    .dataframe thead th {\n",
       "        text-align: left;\n",
       "    }\n",
       "\n",
       "    .dataframe tbody tr th {\n",
       "        vertical-align: top;\n",
       "    }\n",
       "</style>\n",
       "<table border=\"1\" class=\"dataframe\">\n",
       "  <thead>\n",
       "    <tr style=\"text-align: right;\">\n",
       "      <th></th>\n",
       "      <th>Date (MM/DD/YYYY)_Time (HH:MM:SS)</th>\n",
       "      <th>Unnamed: 0</th>\n",
       "      <th>BGA-PC RFU</th>\n",
       "      <th>BGA-PC ug/L</th>\n",
       "      <th>BGA-PE RFU</th>\n",
       "      <th>BGA-PE g/L</th>\n",
       "      <th>Battery V</th>\n",
       "      <th>Cable Pwr V</th>\n",
       "      <th>Chlorophyll RFU</th>\n",
       "      <th>Chlorophyll ug/L</th>\n",
       "      <th>...</th>\n",
       "      <th>TDS mg/L</th>\n",
       "      <th>TSS mg/L</th>\n",
       "      <th>Temp C</th>\n",
       "      <th>Time (Fract. Sec)</th>\n",
       "      <th>Turbidity FNU</th>\n",
       "      <th>fDOM QSU</th>\n",
       "      <th>fDOM RFU</th>\n",
       "      <th>nLF Cond uS/cm</th>\n",
       "      <th>pH</th>\n",
       "      <th>pH mV</th>\n",
       "    </tr>\n",
       "  </thead>\n",
       "  <tbody>\n",
       "    <tr>\n",
       "      <th>0</th>\n",
       "      <td>2016-11-04 04:09:45</td>\n",
       "      <td>0</td>\n",
       "      <td>-2.16</td>\n",
       "      <td>-2.16</td>\n",
       "      <td>NaN</td>\n",
       "      <td>NaN</td>\n",
       "      <td>6.4</td>\n",
       "      <td>11.4</td>\n",
       "      <td>0.09</td>\n",
       "      <td>0.36</td>\n",
       "      <td>...</td>\n",
       "      <td>NaN</td>\n",
       "      <td>0.0</td>\n",
       "      <td>30.100</td>\n",
       "      <td>0</td>\n",
       "      <td>35.87</td>\n",
       "      <td>48.52</td>\n",
       "      <td>4.53</td>\n",
       "      <td>69.5</td>\n",
       "      <td>8.99</td>\n",
       "      <td>-185.9</td>\n",
       "    </tr>\n",
       "    <tr>\n",
       "      <th>1</th>\n",
       "      <td>2016-11-04 04:10:00</td>\n",
       "      <td>1</td>\n",
       "      <td>-2.15</td>\n",
       "      <td>-2.15</td>\n",
       "      <td>NaN</td>\n",
       "      <td>NaN</td>\n",
       "      <td>6.4</td>\n",
       "      <td>11.4</td>\n",
       "      <td>0.05</td>\n",
       "      <td>0.22</td>\n",
       "      <td>...</td>\n",
       "      <td>NaN</td>\n",
       "      <td>0.0</td>\n",
       "      <td>30.103</td>\n",
       "      <td>0</td>\n",
       "      <td>36.38</td>\n",
       "      <td>48.56</td>\n",
       "      <td>4.55</td>\n",
       "      <td>69.4</td>\n",
       "      <td>8.99</td>\n",
       "      <td>-185.8</td>\n",
       "    </tr>\n",
       "    <tr>\n",
       "      <th>2</th>\n",
       "      <td>2016-11-04 04:10:15</td>\n",
       "      <td>2</td>\n",
       "      <td>-2.17</td>\n",
       "      <td>-2.17</td>\n",
       "      <td>NaN</td>\n",
       "      <td>NaN</td>\n",
       "      <td>6.4</td>\n",
       "      <td>11.4</td>\n",
       "      <td>0.07</td>\n",
       "      <td>0.28</td>\n",
       "      <td>...</td>\n",
       "      <td>NaN</td>\n",
       "      <td>0.0</td>\n",
       "      <td>30.098</td>\n",
       "      <td>0</td>\n",
       "      <td>37.84</td>\n",
       "      <td>48.53</td>\n",
       "      <td>4.54</td>\n",
       "      <td>69.4</td>\n",
       "      <td>8.99</td>\n",
       "      <td>-185.7</td>\n",
       "    </tr>\n",
       "  </tbody>\n",
       "</table>\n",
       "<p>3 rows × 31 columns</p>\n",
       "</div>"
      ],
      "text/plain": [
       "  Date (MM/DD/YYYY)_Time (HH:MM:SS)  Unnamed: 0  BGA-PC RFU  BGA-PC ug/L  \\\n",
       "0               2016-11-04 04:09:45           0       -2.16        -2.16   \n",
       "1               2016-11-04 04:10:00           1       -2.15        -2.15   \n",
       "2               2016-11-04 04:10:15           2       -2.17        -2.17   \n",
       "\n",
       "   BGA-PE RFU  BGA-PE g/L  Battery V  Cable Pwr V  Chlorophyll RFU  \\\n",
       "0         NaN         NaN        6.4         11.4             0.09   \n",
       "1         NaN         NaN        6.4         11.4             0.05   \n",
       "2         NaN         NaN        6.4         11.4             0.07   \n",
       "\n",
       "   Chlorophyll ug/L  ...    TDS mg/L  TSS mg/L  Temp C  Time (Fract. Sec)  \\\n",
       "0              0.36  ...         NaN       0.0  30.100                  0   \n",
       "1              0.22  ...         NaN       0.0  30.103                  0   \n",
       "2              0.28  ...         NaN       0.0  30.098                  0   \n",
       "\n",
       "   Turbidity FNU  fDOM QSU  fDOM RFU  nLF Cond uS/cm    pH  pH mV  \n",
       "0          35.87     48.52      4.53            69.5  8.99 -185.9  \n",
       "1          36.38     48.56      4.55            69.4  8.99 -185.8  \n",
       "2          37.84     48.53      4.54            69.4  8.99 -185.7  \n",
       "\n",
       "[3 rows x 31 columns]"
      ]
     },
     "execution_count": 133,
     "metadata": {},
     "output_type": "execute_result"
    }
   ],
   "source": [
    "sonde.head(3)"
   ]
  },
  {
   "cell_type": "code",
   "execution_count": 134,
   "metadata": {},
   "outputs": [
    {
     "data": {
      "text/html": [
       "<div>\n",
       "<style>\n",
       "    .dataframe thead tr:only-child th {\n",
       "        text-align: right;\n",
       "    }\n",
       "\n",
       "    .dataframe thead th {\n",
       "        text-align: left;\n",
       "    }\n",
       "\n",
       "    .dataframe tbody tr th {\n",
       "        vertical-align: top;\n",
       "    }\n",
       "</style>\n",
       "<table border=\"1\" class=\"dataframe\">\n",
       "  <thead>\n",
       "    <tr style=\"text-align: right;\">\n",
       "      <th></th>\n",
       "      <th>Unnamed: 0</th>\n",
       "      <th>BGA-PC RFU</th>\n",
       "      <th>BGA-PC ug/L</th>\n",
       "      <th>BGA-PE RFU</th>\n",
       "      <th>BGA-PE g/L</th>\n",
       "      <th>Battery V</th>\n",
       "      <th>Cable Pwr V</th>\n",
       "      <th>Chlorophyll RFU</th>\n",
       "      <th>Chlorophyll ug/L</th>\n",
       "      <th>Cond uS/cm</th>\n",
       "      <th>...</th>\n",
       "      <th>TDS mg/L</th>\n",
       "      <th>TSS mg/L</th>\n",
       "      <th>Temp C</th>\n",
       "      <th>Time (Fract. Sec)</th>\n",
       "      <th>Turbidity FNU</th>\n",
       "      <th>fDOM QSU</th>\n",
       "      <th>fDOM RFU</th>\n",
       "      <th>nLF Cond uS/cm</th>\n",
       "      <th>pH</th>\n",
       "      <th>pH mV</th>\n",
       "    </tr>\n",
       "  </thead>\n",
       "  <tbody>\n",
       "    <tr>\n",
       "      <th>count</th>\n",
       "      <td>11933.000000</td>\n",
       "      <td>4404.000000</td>\n",
       "      <td>4404.000000</td>\n",
       "      <td>7529.000000</td>\n",
       "      <td>7529.000000</td>\n",
       "      <td>11933.000000</td>\n",
       "      <td>11933.000000</td>\n",
       "      <td>11933.000000</td>\n",
       "      <td>11933.000000</td>\n",
       "      <td>11933.000000</td>\n",
       "      <td>...</td>\n",
       "      <td>7529.000000</td>\n",
       "      <td>9007.0</td>\n",
       "      <td>11933.000000</td>\n",
       "      <td>11933.0</td>\n",
       "      <td>9007.000000</td>\n",
       "      <td>11933.000000</td>\n",
       "      <td>11933.000000</td>\n",
       "      <td>11933.000000</td>\n",
       "      <td>11933.000000</td>\n",
       "      <td>11933.000000</td>\n",
       "    </tr>\n",
       "    <tr>\n",
       "      <th>mean</th>\n",
       "      <td>5966.000000</td>\n",
       "      <td>-1.857627</td>\n",
       "      <td>-1.857627</td>\n",
       "      <td>0.382917</td>\n",
       "      <td>1.072299</td>\n",
       "      <td>6.267762</td>\n",
       "      <td>10.912570</td>\n",
       "      <td>0.039303</td>\n",
       "      <td>0.157394</td>\n",
       "      <td>66.216626</td>\n",
       "      <td>...</td>\n",
       "      <td>37.376677</td>\n",
       "      <td>0.0</td>\n",
       "      <td>30.220553</td>\n",
       "      <td>0.0</td>\n",
       "      <td>41.400613</td>\n",
       "      <td>37.196460</td>\n",
       "      <td>0.832891</td>\n",
       "      <td>59.550147</td>\n",
       "      <td>7.720719</td>\n",
       "      <td>-91.518252</td>\n",
       "    </tr>\n",
       "    <tr>\n",
       "      <th>std</th>\n",
       "      <td>3444.904716</td>\n",
       "      <td>0.426340</td>\n",
       "      <td>0.426340</td>\n",
       "      <td>0.152280</td>\n",
       "      <td>0.426303</td>\n",
       "      <td>0.193826</td>\n",
       "      <td>2.207838</td>\n",
       "      <td>0.059300</td>\n",
       "      <td>0.236993</td>\n",
       "      <td>9.216058</td>\n",
       "      <td>...</td>\n",
       "      <td>1.221582</td>\n",
       "      <td>0.0</td>\n",
       "      <td>0.224781</td>\n",
       "      <td>0.0</td>\n",
       "      <td>24.491444</td>\n",
       "      <td>7.028245</td>\n",
       "      <td>21.803318</td>\n",
       "      <td>8.318381</td>\n",
       "      <td>0.905339</td>\n",
       "      <td>66.889233</td>\n",
       "    </tr>\n",
       "    <tr>\n",
       "      <th>min</th>\n",
       "      <td>0.000000</td>\n",
       "      <td>-2.260000</td>\n",
       "      <td>-2.260000</td>\n",
       "      <td>0.030000</td>\n",
       "      <td>0.080000</td>\n",
       "      <td>5.800000</td>\n",
       "      <td>0.000000</td>\n",
       "      <td>-0.110000</td>\n",
       "      <td>-0.440000</td>\n",
       "      <td>2.400000</td>\n",
       "      <td>...</td>\n",
       "      <td>31.000000</td>\n",
       "      <td>0.0</td>\n",
       "      <td>29.640000</td>\n",
       "      <td>0.0</td>\n",
       "      <td>12.750000</td>\n",
       "      <td>20.270000</td>\n",
       "      <td>-59.970000</td>\n",
       "      <td>2.200000</td>\n",
       "      <td>6.250000</td>\n",
       "      <td>-201.500000</td>\n",
       "    </tr>\n",
       "    <tr>\n",
       "      <th>25%</th>\n",
       "      <td>2983.000000</td>\n",
       "      <td>-2.170000</td>\n",
       "      <td>-2.170000</td>\n",
       "      <td>0.290000</td>\n",
       "      <td>0.810000</td>\n",
       "      <td>6.200000</td>\n",
       "      <td>11.300000</td>\n",
       "      <td>0.000000</td>\n",
       "      <td>0.000000</td>\n",
       "      <td>63.300000</td>\n",
       "      <td>...</td>\n",
       "      <td>37.000000</td>\n",
       "      <td>0.0</td>\n",
       "      <td>30.055000</td>\n",
       "      <td>0.0</td>\n",
       "      <td>27.680000</td>\n",
       "      <td>33.690000</td>\n",
       "      <td>3.020000</td>\n",
       "      <td>56.800000</td>\n",
       "      <td>7.250000</td>\n",
       "      <td>-186.400000</td>\n",
       "    </tr>\n",
       "    <tr>\n",
       "      <th>50%</th>\n",
       "      <td>5966.000000</td>\n",
       "      <td>-2.130000</td>\n",
       "      <td>-2.130000</td>\n",
       "      <td>0.350000</td>\n",
       "      <td>0.990000</td>\n",
       "      <td>6.300000</td>\n",
       "      <td>11.400000</td>\n",
       "      <td>0.030000</td>\n",
       "      <td>0.130000</td>\n",
       "      <td>64.200000</td>\n",
       "      <td>...</td>\n",
       "      <td>38.000000</td>\n",
       "      <td>0.0</td>\n",
       "      <td>30.160000</td>\n",
       "      <td>0.0</td>\n",
       "      <td>31.880000</td>\n",
       "      <td>34.700000</td>\n",
       "      <td>10.590000</td>\n",
       "      <td>57.600000</td>\n",
       "      <td>7.300000</td>\n",
       "      <td>-44.600000</td>\n",
       "    </tr>\n",
       "    <tr>\n",
       "      <th>75%</th>\n",
       "      <td>8949.000000</td>\n",
       "      <td>-1.300000</td>\n",
       "      <td>-1.300000</td>\n",
       "      <td>0.440000</td>\n",
       "      <td>1.220000</td>\n",
       "      <td>6.400000</td>\n",
       "      <td>11.400000</td>\n",
       "      <td>0.070000</td>\n",
       "      <td>0.270000</td>\n",
       "      <td>75.100000</td>\n",
       "      <td>...</td>\n",
       "      <td>38.000000</td>\n",
       "      <td>0.0</td>\n",
       "      <td>30.361000</td>\n",
       "      <td>0.0</td>\n",
       "      <td>40.875000</td>\n",
       "      <td>42.240000</td>\n",
       "      <td>11.480000</td>\n",
       "      <td>67.700000</td>\n",
       "      <td>9.000000</td>\n",
       "      <td>-41.900000</td>\n",
       "    </tr>\n",
       "    <tr>\n",
       "      <th>max</th>\n",
       "      <td>11932.000000</td>\n",
       "      <td>0.460000</td>\n",
       "      <td>0.460000</td>\n",
       "      <td>1.210000</td>\n",
       "      <td>3.380000</td>\n",
       "      <td>6.400000</td>\n",
       "      <td>11.400000</td>\n",
       "      <td>0.350000</td>\n",
       "      <td>1.410000</td>\n",
       "      <td>146.800000</td>\n",
       "      <td>...</td>\n",
       "      <td>45.000000</td>\n",
       "      <td>0.0</td>\n",
       "      <td>30.947000</td>\n",
       "      <td>0.0</td>\n",
       "      <td>165.760000</td>\n",
       "      <td>51.880000</td>\n",
       "      <td>12.980000</td>\n",
       "      <td>131.500000</td>\n",
       "      <td>9.380000</td>\n",
       "      <td>-15.900000</td>\n",
       "    </tr>\n",
       "  </tbody>\n",
       "</table>\n",
       "<p>8 rows × 29 columns</p>\n",
       "</div>"
      ],
      "text/plain": [
       "         Unnamed: 0   BGA-PC RFU  BGA-PC ug/L   BGA-PE RFU   BGA-PE g/L  \\\n",
       "count  11933.000000  4404.000000  4404.000000  7529.000000  7529.000000   \n",
       "mean    5966.000000    -1.857627    -1.857627     0.382917     1.072299   \n",
       "std     3444.904716     0.426340     0.426340     0.152280     0.426303   \n",
       "min        0.000000    -2.260000    -2.260000     0.030000     0.080000   \n",
       "25%     2983.000000    -2.170000    -2.170000     0.290000     0.810000   \n",
       "50%     5966.000000    -2.130000    -2.130000     0.350000     0.990000   \n",
       "75%     8949.000000    -1.300000    -1.300000     0.440000     1.220000   \n",
       "max    11932.000000     0.460000     0.460000     1.210000     3.380000   \n",
       "\n",
       "          Battery V   Cable Pwr V  Chlorophyll RFU  Chlorophyll ug/L  \\\n",
       "count  11933.000000  11933.000000     11933.000000      11933.000000   \n",
       "mean       6.267762     10.912570         0.039303          0.157394   \n",
       "std        0.193826      2.207838         0.059300          0.236993   \n",
       "min        5.800000      0.000000        -0.110000         -0.440000   \n",
       "25%        6.200000     11.300000         0.000000          0.000000   \n",
       "50%        6.300000     11.400000         0.030000          0.130000   \n",
       "75%        6.400000     11.400000         0.070000          0.270000   \n",
       "max        6.400000     11.400000         0.350000          1.410000   \n",
       "\n",
       "         Cond uS/cm      ...          TDS mg/L  TSS mg/L        Temp C  \\\n",
       "count  11933.000000      ...       7529.000000    9007.0  11933.000000   \n",
       "mean      66.216626      ...         37.376677       0.0     30.220553   \n",
       "std        9.216058      ...          1.221582       0.0      0.224781   \n",
       "min        2.400000      ...         31.000000       0.0     29.640000   \n",
       "25%       63.300000      ...         37.000000       0.0     30.055000   \n",
       "50%       64.200000      ...         38.000000       0.0     30.160000   \n",
       "75%       75.100000      ...         38.000000       0.0     30.361000   \n",
       "max      146.800000      ...         45.000000       0.0     30.947000   \n",
       "\n",
       "       Time (Fract. Sec)  Turbidity FNU      fDOM QSU      fDOM RFU  \\\n",
       "count            11933.0    9007.000000  11933.000000  11933.000000   \n",
       "mean                 0.0      41.400613     37.196460      0.832891   \n",
       "std                  0.0      24.491444      7.028245     21.803318   \n",
       "min                  0.0      12.750000     20.270000    -59.970000   \n",
       "25%                  0.0      27.680000     33.690000      3.020000   \n",
       "50%                  0.0      31.880000     34.700000     10.590000   \n",
       "75%                  0.0      40.875000     42.240000     11.480000   \n",
       "max                  0.0     165.760000     51.880000     12.980000   \n",
       "\n",
       "       nLF Cond uS/cm            pH         pH mV  \n",
       "count    11933.000000  11933.000000  11933.000000  \n",
       "mean        59.550147      7.720719    -91.518252  \n",
       "std          8.318381      0.905339     66.889233  \n",
       "min          2.200000      6.250000   -201.500000  \n",
       "25%         56.800000      7.250000   -186.400000  \n",
       "50%         57.600000      7.300000    -44.600000  \n",
       "75%         67.700000      9.000000    -41.900000  \n",
       "max        131.500000      9.380000    -15.900000  \n",
       "\n",
       "[8 rows x 29 columns]"
      ]
     },
     "execution_count": 134,
     "metadata": {},
     "output_type": "execute_result"
    }
   ],
   "source": [
    "sonde.describe()"
   ]
  },
  {
   "cell_type": "code",
   "execution_count": 62,
   "metadata": {},
   "outputs": [
    {
     "data": {
      "text/plain": [
       "Index([u'Date (MM/DD/YYYY)_Time (HH:MM:SS)', u'Unnamed: 0', u'BGA-PC RFU',\n",
       "       u'BGA-PC ug/L', u'BGA-PE RFU', u'BGA-PE g/L', u'Battery V',\n",
       "       u'Cable Pwr V', u'Chlorophyll RFU', u'Chlorophyll ug/L', u'Cond uS/cm',\n",
       "       u'Depth m', u'Fault Code', u'ODO % sat', u'ODO mg/L', u'ORP mV',\n",
       "       u'ORP raw mV', u'Press psi a', u'Sal psu', u'Site Name',\n",
       "       u'SpCond uS/cm', u'TDS mg/L', u'TSS mg/L', u'Temp C',\n",
       "       u'Time (Fract. Sec)', u'Turbidity FNU', u'fDOM QSU', u'fDOM RFU',\n",
       "       u'nLF Cond uS/cm', u'pH', u'pH mV'],\n",
       "      dtype='object')"
      ]
     },
     "execution_count": 62,
     "metadata": {},
     "output_type": "execute_result"
    }
   ],
   "source": [
    "sonde.columns"
   ]
  },
  {
   "cell_type": "code",
   "execution_count": 63,
   "metadata": {},
   "outputs": [
    {
     "data": {
      "text/html": [
       "<div>\n",
       "<style>\n",
       "    .dataframe thead tr:only-child th {\n",
       "        text-align: right;\n",
       "    }\n",
       "\n",
       "    .dataframe thead th {\n",
       "        text-align: left;\n",
       "    }\n",
       "\n",
       "    .dataframe tbody tr th {\n",
       "        vertical-align: top;\n",
       "    }\n",
       "</style>\n",
       "<table border=\"1\" class=\"dataframe\">\n",
       "  <thead>\n",
       "    <tr style=\"text-align: right;\">\n",
       "      <th></th>\n",
       "      <th>Chlorophyll ug/L</th>\n",
       "      <th>ODO mg/L</th>\n",
       "      <th>Sal psu</th>\n",
       "      <th>Temp C</th>\n",
       "      <th>Turbidity FNU</th>\n",
       "      <th>fDOM QSU</th>\n",
       "      <th>pH</th>\n",
       "    </tr>\n",
       "  </thead>\n",
       "  <tbody>\n",
       "    <tr>\n",
       "      <th>0</th>\n",
       "      <td>0.36</td>\n",
       "      <td>6.95</td>\n",
       "      <td>0.03</td>\n",
       "      <td>30.100</td>\n",
       "      <td>35.87</td>\n",
       "      <td>48.52</td>\n",
       "      <td>8.99</td>\n",
       "    </tr>\n",
       "    <tr>\n",
       "      <th>1</th>\n",
       "      <td>0.22</td>\n",
       "      <td>6.95</td>\n",
       "      <td>0.03</td>\n",
       "      <td>30.103</td>\n",
       "      <td>36.38</td>\n",
       "      <td>48.56</td>\n",
       "      <td>8.99</td>\n",
       "    </tr>\n",
       "  </tbody>\n",
       "</table>\n",
       "</div>"
      ],
      "text/plain": [
       "   Chlorophyll ug/L  ODO mg/L  Sal psu  Temp C  Turbidity FNU  fDOM QSU    pH\n",
       "0              0.36      6.95     0.03  30.100          35.87     48.52  8.99\n",
       "1              0.22      6.95     0.03  30.103          36.38     48.56  8.99"
      ]
     },
     "execution_count": 63,
     "metadata": {},
     "output_type": "execute_result"
    }
   ],
   "source": [
    "# Subset down to relevant columns\n",
    "littlesonde = sonde[['Chlorophyll ug/L'] + ['ODO mg/L'] + ['Sal psu'] + ['Temp C'] + ['Turbidity FNU'] + ['fDOM QSU']  + ['pH']]\n",
    "littlesonde.head(2)"
   ]
  },
  {
   "cell_type": "code",
   "execution_count": 67,
   "metadata": {},
   "outputs": [
    {
     "data": {
      "image/png": "[encoded data removed]",
      "text/plain": [
       "<matplotlib.figure.Figure at 0x110229810>"
      ]
     },
     "metadata": {},
     "output_type": "display_data"
    }
   ],
   "source": [
    "def set_style():\n",
    "    plt.style.use(['seaborn-white', 'seaborn-paper'])\n",
    "    plt.rc(\"font\", family=\"Times New Roman\")\n",
    "    \n",
    "set_style()    \n",
    "littlesonde.hist(color='k', alpha=0.5, bins=50)\n",
    "plt.tight_layout()\n",
    "\n",
    "plt.savefig('sondehist.png', dpi = 300)\n",
    "\n",
    "# Helpful: http://matplotlib.org/users/tight_layout_guide.html#plotting-guide-tight-layout\n",
    "# Also Helpful: http://www.jesshamrick.com/2016/04/13/reproducible-plots/"
   ]
  },
  {
   "cell_type": "markdown",
   "metadata": {},
   "source": [
    "# GPS Data"
   ]
  },
  {
   "cell_type": "code",
   "execution_count": 68,
   "metadata": {},
   "outputs": [
    {
     "name": "stdout",
     "output_type": "stream",
     "text": [
      "/Users/ckuhn/Documents/General Exam/Data/Amazon/T5/GPS/GPS1\n"
     ]
    }
   ],
   "source": [
    "%cd /Users/ckuhn/Documents/General Exam/Data/Amazon/T5/GPS/GPS1 \n",
    "gps = pd.read_table('GPS1_merged_points.csv', low_memory=False, sep=',', header = 0)"
   ]
  },
  {
   "cell_type": "code",
   "execution_count": 69,
   "metadata": {},
   "outputs": [
    {
     "data": {
      "text/html": [
       "<div>\n",
       "<style>\n",
       "    .dataframe thead tr:only-child th {\n",
       "        text-align: right;\n",
       "    }\n",
       "\n",
       "    .dataframe thead th {\n",
       "        text-align: left;\n",
       "    }\n",
       "\n",
       "    .dataframe tbody tr th {\n",
       "        vertical-align: top;\n",
       "    }\n",
       "</style>\n",
       "<table border=\"1\" class=\"dataframe\">\n",
       "  <thead>\n",
       "    <tr style=\"text-align: right;\">\n",
       "      <th></th>\n",
       "      <th>X</th>\n",
       "      <th>Y</th>\n",
       "      <th>track_fid</th>\n",
       "      <th>track_seg_</th>\n",
       "      <th>track_se_1</th>\n",
       "      <th>ele</th>\n",
       "      <th>time</th>\n",
       "      <th>gpxtpx_Tra</th>\n",
       "      <th>latitude</th>\n",
       "      <th>longitude</th>\n",
       "    </tr>\n",
       "  </thead>\n",
       "  <tbody>\n",
       "    <tr>\n",
       "      <th>0</th>\n",
       "      <td>-51.140234</td>\n",
       "      <td>-0.052336</td>\n",
       "      <td>0</td>\n",
       "      <td>0</td>\n",
       "      <td>0</td>\n",
       "      <td>5.42</td>\n",
       "      <td>04:09.0</td>\n",
       "      <td>0</td>\n",
       "      <td>-0.052336</td>\n",
       "      <td>-51.140234</td>\n",
       "    </tr>\n",
       "    <tr>\n",
       "      <th>1</th>\n",
       "      <td>-51.140237</td>\n",
       "      <td>-0.052335</td>\n",
       "      <td>0</td>\n",
       "      <td>0</td>\n",
       "      <td>1</td>\n",
       "      <td>5.42</td>\n",
       "      <td>04:39.0</td>\n",
       "      <td>0</td>\n",
       "      <td>-0.052335</td>\n",
       "      <td>-51.140237</td>\n",
       "    </tr>\n",
       "    <tr>\n",
       "      <th>2</th>\n",
       "      <td>-51.140232</td>\n",
       "      <td>-0.052339</td>\n",
       "      <td>0</td>\n",
       "      <td>0</td>\n",
       "      <td>2</td>\n",
       "      <td>4.94</td>\n",
       "      <td>05:09.0</td>\n",
       "      <td>0</td>\n",
       "      <td>-0.052339</td>\n",
       "      <td>-51.140232</td>\n",
       "    </tr>\n",
       "  </tbody>\n",
       "</table>\n",
       "</div>"
      ],
      "text/plain": [
       "           X         Y  track_fid  track_seg_  track_se_1   ele     time  \\\n",
       "0 -51.140234 -0.052336          0           0           0  5.42  04:09.0   \n",
       "1 -51.140237 -0.052335          0           0           1  5.42  04:39.0   \n",
       "2 -51.140232 -0.052339          0           0           2  4.94  05:09.0   \n",
       "\n",
       "   gpxtpx_Tra  latitude  longitude  \n",
       "0           0 -0.052336 -51.140234  \n",
       "1           0 -0.052335 -51.140237  \n",
       "2           0 -0.052339 -51.140232  "
      ]
     },
     "execution_count": 69,
     "metadata": {},
     "output_type": "execute_result"
    }
   ],
   "source": [
    "gps.head(3)"
   ]
  },
  {
   "cell_type": "markdown",
   "metadata": {},
   "source": [
    "## Joins"
   ]
  },
  {
   "cell_type": "markdown",
   "metadata": {},
   "source": [
    "combine date + time columns"
   ]
  },
  {
   "cell_type": "code",
   "execution_count": 138,
   "metadata": {},
   "outputs": [],
   "source": [
    "# Set the date time column as the index\n",
    "licor['times'] = licor['Date_Time']\n",
    "sonde['times'] = sonde['Date (MM/DD/YYYY)_Time (HH:MM:SS)']"
   ]
  },
  {
   "cell_type": "code",
   "execution_count": 139,
   "metadata": {},
   "outputs": [
    {
     "data": {
      "text/html": [
       "<div>\n",
       "<style>\n",
       "    .dataframe thead tr:only-child th {\n",
       "        text-align: right;\n",
       "    }\n",
       "\n",
       "    .dataframe thead th {\n",
       "        text-align: left;\n",
       "    }\n",
       "\n",
       "    .dataframe tbody tr th {\n",
       "        vertical-align: top;\n",
       "    }\n",
       "</style>\n",
       "<table border=\"1\" class=\"dataframe\">\n",
       "  <thead>\n",
       "    <tr style=\"text-align: right;\">\n",
       "      <th></th>\n",
       "      <th>Date (MM/DD/YYYY)_Time (HH:MM:SS)</th>\n",
       "      <th>Unnamed: 0</th>\n",
       "      <th>BGA-PC RFU</th>\n",
       "      <th>BGA-PC ug/L</th>\n",
       "      <th>BGA-PE RFU</th>\n",
       "      <th>BGA-PE g/L</th>\n",
       "      <th>Battery V</th>\n",
       "      <th>Cable Pwr V</th>\n",
       "      <th>Chlorophyll RFU</th>\n",
       "      <th>Chlorophyll ug/L</th>\n",
       "      <th>...</th>\n",
       "      <th>TSS mg/L</th>\n",
       "      <th>Temp C</th>\n",
       "      <th>Time (Fract. Sec)</th>\n",
       "      <th>Turbidity FNU</th>\n",
       "      <th>fDOM QSU</th>\n",
       "      <th>fDOM RFU</th>\n",
       "      <th>nLF Cond uS/cm</th>\n",
       "      <th>pH</th>\n",
       "      <th>pH mV</th>\n",
       "      <th>times</th>\n",
       "    </tr>\n",
       "    <tr>\n",
       "      <th>times</th>\n",
       "      <th></th>\n",
       "      <th></th>\n",
       "      <th></th>\n",
       "      <th></th>\n",
       "      <th></th>\n",
       "      <th></th>\n",
       "      <th></th>\n",
       "      <th></th>\n",
       "      <th></th>\n",
       "      <th></th>\n",
       "      <th></th>\n",
       "      <th></th>\n",
       "      <th></th>\n",
       "      <th></th>\n",
       "      <th></th>\n",
       "      <th></th>\n",
       "      <th></th>\n",
       "      <th></th>\n",
       "      <th></th>\n",
       "      <th></th>\n",
       "      <th></th>\n",
       "    </tr>\n",
       "  </thead>\n",
       "  <tbody>\n",
       "    <tr>\n",
       "      <th>2016-11-04 04:09:45</th>\n",
       "      <td>2016-11-04 04:09:45</td>\n",
       "      <td>0</td>\n",
       "      <td>-2.16</td>\n",
       "      <td>-2.16</td>\n",
       "      <td>NaN</td>\n",
       "      <td>NaN</td>\n",
       "      <td>6.4</td>\n",
       "      <td>11.4</td>\n",
       "      <td>0.09</td>\n",
       "      <td>0.36</td>\n",
       "      <td>...</td>\n",
       "      <td>0.0</td>\n",
       "      <td>30.100</td>\n",
       "      <td>0</td>\n",
       "      <td>35.87</td>\n",
       "      <td>48.52</td>\n",
       "      <td>4.53</td>\n",
       "      <td>69.5</td>\n",
       "      <td>8.99</td>\n",
       "      <td>-185.9</td>\n",
       "      <td>2016-11-04 04:09:45</td>\n",
       "    </tr>\n",
       "    <tr>\n",
       "      <th>2016-11-04 04:10:00</th>\n",
       "      <td>2016-11-04 04:10:00</td>\n",
       "      <td>1</td>\n",
       "      <td>-2.15</td>\n",
       "      <td>-2.15</td>\n",
       "      <td>NaN</td>\n",
       "      <td>NaN</td>\n",
       "      <td>6.4</td>\n",
       "      <td>11.4</td>\n",
       "      <td>0.05</td>\n",
       "      <td>0.22</td>\n",
       "      <td>...</td>\n",
       "      <td>0.0</td>\n",
       "      <td>30.103</td>\n",
       "      <td>0</td>\n",
       "      <td>36.38</td>\n",
       "      <td>48.56</td>\n",
       "      <td>4.55</td>\n",
       "      <td>69.4</td>\n",
       "      <td>8.99</td>\n",
       "      <td>-185.8</td>\n",
       "      <td>2016-11-04 04:10:00</td>\n",
       "    </tr>\n",
       "  </tbody>\n",
       "</table>\n",
       "<p>2 rows × 32 columns</p>\n",
       "</div>"
      ],
      "text/plain": [
       "                    Date (MM/DD/YYYY)_Time (HH:MM:SS)  Unnamed: 0  BGA-PC RFU  \\\n",
       "times                                                                           \n",
       "2016-11-04 04:09:45               2016-11-04 04:09:45           0       -2.16   \n",
       "2016-11-04 04:10:00               2016-11-04 04:10:00           1       -2.15   \n",
       "\n",
       "                     BGA-PC ug/L  BGA-PE RFU  BGA-PE g/L  Battery V  \\\n",
       "times                                                                 \n",
       "2016-11-04 04:09:45        -2.16         NaN         NaN        6.4   \n",
       "2016-11-04 04:10:00        -2.15         NaN         NaN        6.4   \n",
       "\n",
       "                     Cable Pwr V  Chlorophyll RFU  Chlorophyll ug/L  \\\n",
       "times                                                                 \n",
       "2016-11-04 04:09:45         11.4             0.09              0.36   \n",
       "2016-11-04 04:10:00         11.4             0.05              0.22   \n",
       "\n",
       "                            ...          TSS mg/L  Temp C  Time (Fract. Sec)  \\\n",
       "times                       ...                                                \n",
       "2016-11-04 04:09:45         ...               0.0  30.100                  0   \n",
       "2016-11-04 04:10:00         ...               0.0  30.103                  0   \n",
       "\n",
       "                     Turbidity FNU  fDOM QSU  fDOM RFU  nLF Cond uS/cm    pH  \\\n",
       "times                                                                          \n",
       "2016-11-04 04:09:45          35.87     48.52      4.53            69.5  8.99   \n",
       "2016-11-04 04:10:00          36.38     48.56      4.55            69.4  8.99   \n",
       "\n",
       "                     pH mV               times  \n",
       "times                                           \n",
       "2016-11-04 04:09:45 -185.9 2016-11-04 04:09:45  \n",
       "2016-11-04 04:10:00 -185.8 2016-11-04 04:10:00  \n",
       "\n",
       "[2 rows x 32 columns]"
      ]
     },
     "execution_count": 139,
     "metadata": {},
     "output_type": "execute_result"
    }
   ],
   "source": [
    "# This \n",
    "sonde = sonde.set_index(pd.DatetimeIndex(sonde['times']))\n",
    "licor = licor.set_index(pd.DatetimeIndex(licor['times']))\n",
    "sonde.head()"
   ]
  },
  {
   "cell_type": "code",
   "execution_count": 140,
   "metadata": {},
   "outputs": [
    {
     "data": {
      "text/html": [
       "<div>\n",
       "<style>\n",
       "    .dataframe thead tr:only-child th {\n",
       "        text-align: right;\n",
       "    }\n",
       "\n",
       "    .dataframe thead th {\n",
       "        text-align: left;\n",
       "    }\n",
       "\n",
       "    .dataframe tbody tr th {\n",
       "        vertical-align: top;\n",
       "    }\n",
       "</style>\n",
       "<table border=\"1\" class=\"dataframe\">\n",
       "  <thead>\n",
       "    <tr style=\"text-align: right;\">\n",
       "      <th></th>\n",
       "      <th>pH</th>\n",
       "    </tr>\n",
       "    <tr>\n",
       "      <th>indicator_column</th>\n",
       "      <th></th>\n",
       "    </tr>\n",
       "  </thead>\n",
       "  <tbody>\n",
       "    <tr>\n",
       "      <th>left_only</th>\n",
       "      <td>259605.0</td>\n",
       "    </tr>\n",
       "    <tr>\n",
       "      <th>right_only</th>\n",
       "      <td>709.0</td>\n",
       "    </tr>\n",
       "    <tr>\n",
       "      <th>both</th>\n",
       "      <td>11224.0</td>\n",
       "    </tr>\n",
       "  </tbody>\n",
       "</table>\n",
       "</div>"
      ],
      "text/plain": [
       "                        pH\n",
       "indicator_column          \n",
       "left_only         259605.0\n",
       "right_only           709.0\n",
       "both               11224.0"
      ]
     },
     "execution_count": 140,
     "metadata": {},
     "output_type": "execute_result"
    }
   ],
   "source": [
    "licorandsonde = pd.merge(licor, sonde, on='times', how = 'outer', indicator ='indicator_column')\n",
    "\n",
    "pd.pivot_table(licorandsonde,index=[\"indicator_column\"],\n",
    "               values=[\"pH\"],aggfunc=np.count_nonzero)"
   ]
  },
  {
   "cell_type": "code",
   "execution_count": 141,
   "metadata": {},
   "outputs": [
    {
     "name": "stdout",
     "output_type": "stream",
     "text": [
      "dataframe dimensions\n",
      "(267967, 5)\n",
      "(11933, 32)\n",
      "unique timestamps =\n",
      "267964\n",
      "9010\n"
     ]
    }
   ],
   "source": [
    "# Check the length. Look, they agree!\n",
    "print ('dataframe dimensions')\n",
    "print(licor.shape)\n",
    "print(sonde.shape)\n",
    "\n",
    "print('unique timestamps =') \n",
    "print(len(licor['times'].unique()))\n",
    "print(len(sonde['times'].unique()))"
   ]
  },
  {
   "cell_type": "code",
   "execution_count": 142,
   "metadata": {},
   "outputs": [
    {
     "name": "stdout",
     "output_type": "stream",
     "text": [
      "times\n",
      "2016-11-04 04:09:45   2016-11-04 04:09:45\n",
      "2016-11-04 04:10:00   2016-11-04 04:10:00\n",
      "Name: times, dtype: datetime64[ns]\n",
      "times\n",
      "2016-11-04 04:11:58   2016-11-04 04:11:58\n",
      "2016-11-04 04:11:59   2016-11-04 04:11:59\n",
      "Name: times, dtype: datetime64[ns]\n"
     ]
    }
   ],
   "source": [
    "print(sonde['times'].head(2))  \n",
    "print(licor['times'].head(2))"
   ]
  },
  {
   "cell_type": "code",
   "execution_count": 143,
   "metadata": {},
   "outputs": [
    {
     "data": {
      "text/plain": [
       "times\n",
       "2016-11-04 04:11:58    11\n",
       "2016-11-04 04:11:59    11\n",
       "2016-11-04 04:12:00    12\n",
       "Name: times, dtype: int64"
      ]
     },
     "execution_count": 143,
     "metadata": {},
     "output_type": "execute_result"
    }
   ],
   "source": [
    "# Documentation: https://pandas.pydata.org/pandas-docs/stable/api.html#datetimelike-properties\n",
    "licor['times'].dt.minute.head(3)"
   ]
  },
  {
   "cell_type": "code",
   "execution_count": 144,
   "metadata": {},
   "outputs": [
    {
     "data": {
      "text/html": [
       "<div>\n",
       "<style>\n",
       "    .dataframe thead tr:only-child th {\n",
       "        text-align: right;\n",
       "    }\n",
       "\n",
       "    .dataframe thead th {\n",
       "        text-align: left;\n",
       "    }\n",
       "\n",
       "    .dataframe tbody tr th {\n",
       "        vertical-align: top;\n",
       "    }\n",
       "</style>\n",
       "<table border=\"1\" class=\"dataframe\">\n",
       "  <thead>\n",
       "    <tr style=\"text-align: right;\">\n",
       "      <th></th>\n",
       "      <th>Date_Time</th>\n",
       "      <th>CO2(ppm)</th>\n",
       "      <th>Cell Temp (c)</th>\n",
       "      <th>Cell Press (kpa)</th>\n",
       "      <th>times</th>\n",
       "    </tr>\n",
       "    <tr>\n",
       "      <th>times</th>\n",
       "      <th></th>\n",
       "      <th></th>\n",
       "      <th></th>\n",
       "      <th></th>\n",
       "      <th></th>\n",
       "    </tr>\n",
       "  </thead>\n",
       "  <tbody>\n",
       "    <tr>\n",
       "      <th>2016-11-05 03:40:39</th>\n",
       "      <td>2016-11-05 03:40:39</td>\n",
       "      <td>1089.40</td>\n",
       "      <td>51.44</td>\n",
       "      <td>100.00</td>\n",
       "      <td>2016-11-05 03:40:39</td>\n",
       "    </tr>\n",
       "    <tr>\n",
       "      <th>2016-11-05 03:40:40</th>\n",
       "      <td>2016-11-05 03:40:40</td>\n",
       "      <td>1089.26</td>\n",
       "      <td>51.44</td>\n",
       "      <td>100.00</td>\n",
       "      <td>2016-11-05 03:40:40</td>\n",
       "    </tr>\n",
       "    <tr>\n",
       "      <th>2016-11-05 03:40:41</th>\n",
       "      <td>2016-11-05 03:40:41</td>\n",
       "      <td>1088.87</td>\n",
       "      <td>51.44</td>\n",
       "      <td>100.00</td>\n",
       "      <td>2016-11-05 03:40:41</td>\n",
       "    </tr>\n",
       "    <tr>\n",
       "      <th>2016-11-05 03:40:42</th>\n",
       "      <td>2016-11-05 03:40:42</td>\n",
       "      <td>1088.85</td>\n",
       "      <td>51.44</td>\n",
       "      <td>99.99</td>\n",
       "      <td>2016-11-05 03:40:42</td>\n",
       "    </tr>\n",
       "    <tr>\n",
       "      <th>2016-11-05 03:40:43</th>\n",
       "      <td>2016-11-05 03:40:43</td>\n",
       "      <td>1088.80</td>\n",
       "      <td>51.44</td>\n",
       "      <td>99.99</td>\n",
       "      <td>2016-11-05 03:40:43</td>\n",
       "    </tr>\n",
       "  </tbody>\n",
       "</table>\n",
       "</div>"
      ],
      "text/plain": [
       "                              Date_Time  CO2(ppm)  Cell Temp (c)  \\\n",
       "times                                                              \n",
       "2016-11-05 03:40:39 2016-11-05 03:40:39   1089.40          51.44   \n",
       "2016-11-05 03:40:40 2016-11-05 03:40:40   1089.26          51.44   \n",
       "2016-11-05 03:40:41 2016-11-05 03:40:41   1088.87          51.44   \n",
       "2016-11-05 03:40:42 2016-11-05 03:40:42   1088.85          51.44   \n",
       "2016-11-05 03:40:43 2016-11-05 03:40:43   1088.80          51.44   \n",
       "\n",
       "                     Cell Press (kpa)               times  \n",
       "times                                                      \n",
       "2016-11-05 03:40:39            100.00 2016-11-05 03:40:39  \n",
       "2016-11-05 03:40:40            100.00 2016-11-05 03:40:40  \n",
       "2016-11-05 03:40:41            100.00 2016-11-05 03:40:41  \n",
       "2016-11-05 03:40:42             99.99 2016-11-05 03:40:42  \n",
       "2016-11-05 03:40:43             99.99 2016-11-05 03:40:43  "
      ]
     },
     "execution_count": 144,
     "metadata": {},
     "output_type": "execute_result"
    }
   ],
   "source": [
    "# This will show you all the dates greater than that date.\n",
    "ts = pd.to_datetime('11/05/2016')\n",
    "licor.loc[licor.times >= ts, :].head(5)"
   ]
  },
  {
   "cell_type": "markdown",
   "metadata": {},
   "source": [
    "What was the duration of this time series (i.e. length of cruise)?"
   ]
  },
  {
   "cell_type": "code",
   "execution_count": 145,
   "metadata": {},
   "outputs": [
    {
     "data": {
      "text/plain": [
       "5"
      ]
     },
     "execution_count": 145,
     "metadata": {},
     "output_type": "execute_result"
    }
   ],
   "source": [
    "(licor.times.max() - licor.times.min()).days"
   ]
  },
  {
   "cell_type": "markdown",
   "metadata": {},
   "source": [
    "How many samples did they take each day? "
   ]
  },
  {
   "cell_type": "code",
   "execution_count": 114,
   "metadata": {},
   "outputs": [
    {
     "name": "stdout",
     "output_type": "stream",
     "text": [
      "4    53837\n",
      "5    31488\n",
      "6    46510\n",
      "7    50558\n",
      "8    44812\n",
      "9    40762\n",
      "Name: day, dtype: int64\n"
     ]
    },
    {
     "data": {
      "text/plain": [
       "<matplotlib.axes._subplots.AxesSubplot at 0x1102f6110>"
      ]
     },
     "execution_count": 114,
     "metadata": {},
     "output_type": "execute_result"
    },
    {
     "data": {
      "image/png": "[encoded data removed]",
      "text/plain": [
       "<matplotlib.figure.Figure at 0x11016ce50>"
      ]
     },
     "metadata": {},
     "output_type": "display_data"
    }
   ],
   "source": [
    "licor['day'] = licor.times.dt.day\n",
    "print(licor.day.value_counts().sort_index())\n",
    "licor.day.value_counts().sort_index().plot(kind='bar')"
   ]
  },
  {
   "cell_type": "markdown",
   "metadata": {},
   "source": [
    "## Resampling To A Minute"
   ]
  },
  {
   "cell_type": "code",
   "execution_count": 154,
   "metadata": {},
   "outputs": [],
   "source": [
    "licor_resampled = licor.resample(\"T\").sum()\n",
    "sonde_resampled = sonde.resample(\"T\").sum()"
   ]
  },
  {
   "cell_type": "code",
   "execution_count": 168,
   "metadata": {},
   "outputs": [
    {
     "name": "stdout",
     "output_type": "stream",
     "text": [
      "(7935, 3)\n",
      "(7923, 29)\n"
     ]
    }
   ],
   "source": [
    "print(licor_resampled.shape)\n",
    "print(sonde_resampled.shape)"
   ]
  },
  {
   "cell_type": "code",
   "execution_count": 169,
   "metadata": {},
   "outputs": [
    {
     "data": {
      "text/html": [
       "<div>\n",
       "<style>\n",
       "    .dataframe thead tr:only-child th {\n",
       "        text-align: right;\n",
       "    }\n",
       "\n",
       "    .dataframe thead th {\n",
       "        text-align: left;\n",
       "    }\n",
       "\n",
       "    .dataframe tbody tr th {\n",
       "        vertical-align: top;\n",
       "    }\n",
       "</style>\n",
       "<table border=\"1\" class=\"dataframe\">\n",
       "  <thead>\n",
       "    <tr style=\"text-align: right;\">\n",
       "      <th></th>\n",
       "      <th>CO2(ppm)</th>\n",
       "      <th>Cell Temp (c)</th>\n",
       "      <th>Cell Press (kpa)</th>\n",
       "    </tr>\n",
       "    <tr>\n",
       "      <th>times</th>\n",
       "      <th></th>\n",
       "      <th></th>\n",
       "      <th></th>\n",
       "    </tr>\n",
       "  </thead>\n",
       "  <tbody>\n",
       "    <tr>\n",
       "      <th>2016-11-04 04:11:00</th>\n",
       "      <td>2002.22</td>\n",
       "      <td>102.88</td>\n",
       "      <td>200.55</td>\n",
       "    </tr>\n",
       "    <tr>\n",
       "      <th>2016-11-04 04:12:00</th>\n",
       "      <td>61431.05</td>\n",
       "      <td>3034.96</td>\n",
       "      <td>5915.91</td>\n",
       "    </tr>\n",
       "  </tbody>\n",
       "</table>\n",
       "</div>"
      ],
      "text/plain": [
       "                     CO2(ppm)  Cell Temp (c)  Cell Press (kpa)\n",
       "times                                                         \n",
       "2016-11-04 04:11:00   2002.22         102.88            200.55\n",
       "2016-11-04 04:12:00  61431.05        3034.96           5915.91"
      ]
     },
     "execution_count": 169,
     "metadata": {},
     "output_type": "execute_result"
    }
   ],
   "source": [
    "licor_resampled.head(2)"
   ]
  },
  {
   "cell_type": "markdown",
   "metadata": {},
   "source": [
    "## Joining the Licor and Sonde Data"
   ]
  },
  {
   "cell_type": "code",
   "execution_count": 170,
   "metadata": {},
   "outputs": [],
   "source": [
    "merged = licor_resampled.merge(sonde_resampled, how='left', left_index=True, right_index=True)"
   ]
  },
  {
   "cell_type": "code",
   "execution_count": 171,
   "metadata": {},
   "outputs": [
    {
     "data": {
      "text/plain": [
       "(7935, 32)"
      ]
     },
     "execution_count": 171,
     "metadata": {},
     "output_type": "execute_result"
    }
   ],
   "source": [
    "merged.shape"
   ]
  },
  {
   "cell_type": "markdown",
   "metadata": {},
   "source": [
    "## Time Series Plots "
   ]
  },
  {
   "cell_type": "code",
   "execution_count": 172,
   "metadata": {},
   "outputs": [
    {
     "data": {
      "image/png": "[encoded data removed]",
      "text/plain": [
       "<matplotlib.figure.Figure at 0x11603c910>"
      ]
     },
     "metadata": {},
     "output_type": "display_data"
    }
   ],
   "source": [
    "merged['CO2(ppm)'].plot();"
   ]
  },
  {
   "cell_type": "code",
   "execution_count": 181,
   "metadata": {},
   "outputs": [
    {
     "data": {
      "image/png": "[encoded data removed]",
      "text/plain": [
       "<matplotlib.figure.Figure at 0x1100ca0d0>"
      ]
     },
     "metadata": {},
     "output_type": "display_data"
    }
   ],
   "source": [
    "merged['ODO mg/L'].plot();"
   ]
  },
  {
   "cell_type": "code",
   "execution_count": 183,
   "metadata": {},
   "outputs": [
    {
     "data": {
      "text/plain": [
       "[<matplotlib.lines.Line2D at 0x10fc03b50>]"
      ]
     },
     "execution_count": 183,
     "metadata": {},
     "output_type": "execute_result"
    },
    {
     "data": {
      "image/png": "[encoded data removed]",
      "text/plain": [
       "<matplotlib.figure.Figure at 0x1156a4f90>"
      ]
     },
     "metadata": {},
     "output_type": "display_data"
    }
   ],
   "source": [
    "def set_style():\n",
    "    plt.style.use(['seaborn-white', 'seaborn-talk'])\n",
    "    plt.rc(\"font\", family=\"Times New Roman\")\n",
    "    \n",
    "set_style()\n",
    "\n",
    "y = merged['CO2(ppm)']\n",
    "x = merged['ODO mg/L']\n",
    "plt.xlabel('ODO mg/L')\n",
    "plt.ylabel('CO2(ppm)')\n",
    "\n",
    "plt.plot((x),(y), \">\", color = 'grey')\n",
    "#plt.plot([3500, 0], [0, 3500], 'r--', lw = 4)"
   ]
  },
  {
   "cell_type": "markdown",
   "metadata": {},
   "source": [
    "These plots show the binned one minute average value (in green), as well as the min and max, for the probes."
   ]
  },
  {
   "cell_type": "code",
   "execution_count": 188,
   "metadata": {},
   "outputs": [
    {
     "data": {
      "image/png": "[encoded data removed]",
      "text/plain": [
       "<matplotlib.figure.Figure at 0x10fe6aa10>"
      ]
     },
     "metadata": {},
     "output_type": "display_data"
    }
   ],
   "source": [
    "sonde['Chlorophyll ug/L'].plot();"
   ]
  },
  {
   "cell_type": "code",
   "execution_count": 189,
   "metadata": {},
   "outputs": [
    {
     "data": {
      "image/png": "[encoded data removed]",
      "text/plain": [
       "<matplotlib.figure.Figure at 0x10e3bddd0>"
      ]
     },
     "metadata": {},
     "output_type": "display_data"
    }
   ],
   "source": [
    "sonde['pH'].plot();"
   ]
  },
  {
   "cell_type": "code",
   "execution_count": 190,
   "metadata": {},
   "outputs": [
    {
     "data": {
      "image/png": "[encoded data removed]",
      "text/plain": [
       "<matplotlib.figure.Figure at 0x110201cd0>"
      ]
     },
     "metadata": {},
     "output_type": "display_data"
    }
   ],
   "source": [
    "sonde['ODO mg/L'].plot();"
   ]
  },
  {
   "cell_type": "markdown",
   "metadata": {},
   "source": [
    "### Junkyard"
   ]
  },
  {
   "cell_type": "code",
   "execution_count": 78,
   "metadata": {},
   "outputs": [],
   "source": [
    "#Helpful http://earthpy.org/pandas-basics.html\n",
    "\n",
    "# https://stackoverflow.com/questions/36292959/pandas-merge-data-frames-on-datetime-index\n",
    "    \n",
    "    \n",
    "    #merged = pd.merge(licor_resampled,sonde_resampled, on=['times','times'], how='left')\n",
    "\n",
    "# Theoretically we are resampling to the minute\n",
    "# Old way, still works, gives min and max\n",
    "licor = licor.resample(\"T\", how=['mean', np.min, np.max])\n",
    "sonde = sonde.resample(\"T\", how=['mean', np.min, np.max])\n",
    "\n",
    "print (licor['times'].resample('1Min').mean())\n",
    "pd.rolling_corr(sonde['times'], sonde['pH'], window=3).plot(style='-g')"
   ]
  }
 ],
 "metadata": {
  "kernelspec": {
   "display_name": "Python 2",
   "language": "python",
   "name": "python2"
  },
  "language_info": {
   "codemirror_mode": {
    "name": "ipython",
    "version": 2
   },
   "file_extension": ".py",
   "mimetype": "text/x-python",
   "name": "python",
   "nbconvert_exporter": "python",
   "pygments_lexer": "ipython2",
   "version": "2.7.13"
  }
 },
 "nbformat": 4,
 "nbformat_minor": 2
}

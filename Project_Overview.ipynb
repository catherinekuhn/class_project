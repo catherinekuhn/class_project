{
 "cells": [
  {
   "cell_type": "markdown",
   "metadata": {},
   "source": [
    "## STREAM FARTS TOOLPACK\n",
    "\n",
    "### Research Objectives/Science Driver\n",
    "\n",
    "- How does CO2 and CH4 vary spatially along large rivers? \n",
    "- How can we visualize these data in a user-friendly interface accessible by researchers?\n",
    "- Can we use other variables to predict these trends in concentration?\n",
    "- How much is the Mississippi farting after all? How does that compare to terrestrial farts?\n",
    "\n",
    "### Data\n",
    "\n",
    "- Will's dataset (currently geocoded csv)\n",
    "- Kuhn's dataset (Mississippi river)\n",
    "- Third Party Data: Earth Engine imagery\n",
    "\n",
    "### Design\n",
    "\n",
    "**Inputs** Sensor data, shapefiles, earth engine datasets\n",
    "\n",
    "**Outputs** Basic maps, scatterplots for relationships between variables, longitudinal spaghetti plots. All plots and maps are automated to consider user-defined options for variable choice and \n",
    "\n",
    "**Functions**:\n",
    "    1) Automated sensor data ingestion and cleaning into the Earth Engine platform using python wrappers\n",
    "    2) Map Visualization of basic concentrations of methane and carbon dioxide \n",
    "    3) Trend Exploration\n",
    "        --scatterplots\n",
    "        --spaghetti plots\n",
    "    4) Predictive Machine Learning to relate other geospatial variables to our gas concentrations\n",
    "    \n",
    "### Third Party Notes\n",
    "- Earth Engine + associated datasets\n",
    "- USGS dataset\n",
    "- Raster packages: GDAL, rasterstats, geobricks\n",
    "\n",
    "https://pcjericks.github.io/py-gdalogr-cookbook/raster_layers.html\n",
    "\n",
    "\n",
    "\n",
    "**Next Steps:**  \n",
    "1) Put stuff in REPO  \n",
    "2) Put this in a markdown file  \n",
    "3) Get everybody in EE   \n",
    "\n",
    "\n",
    "\n",
    "Kuhn: Check with USGS that it is okay to share their data\n",
    "Will: put your data into a shapefile\n",
    "Robin: explore packages to call and manipulate vector and raster data\n",
    "Evan: make repo for us in UWSEDS\n",
    "Kathryn: ??\n",
    "\n",
    "Everybody get on Google Earth Engine & Play"
   ]
  }
 ],
 "metadata": {
  "kernelspec": {
   "display_name": "Python 2",
   "language": "python",
   "name": "python2"
  },
  "language_info": {
   "codemirror_mode": {
    "name": "ipython",
    "version": 2
   },
   "file_extension": ".py",
   "mimetype": "text/x-python",
   "name": "python",
   "nbconvert_exporter": "python",
   "pygments_lexer": "ipython2",
   "version": "2.7.11"
  }
 },
 "nbformat": 4,
 "nbformat_minor": 0
}
